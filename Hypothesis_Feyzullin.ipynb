{
  "cells": [
    {
      "cell_type": "code",
      "execution_count": null,
      "metadata": {
        "id": "KJ3J72pBe1HO"
      },
      "outputs": [],
      "source": [
        "import numpy as np\n",
        "import pandas as pd\n",
        "from scipy import stats\n",
        "import seaborn as sns\n",
        "import matplotlib.pyplot as plt"
      ]
    },
    {
      "cell_type": "code",
      "source": [
        ""
      ],
      "metadata": {
        "id": "P140k9ipQjaV"
      },
      "execution_count": null,
      "outputs": []
    },
    {
      "cell_type": "code",
      "source": [
        "from google.colab import drive\n",
        "drive.mount('/content/drive')"
      ],
      "metadata": {
        "id": "l4cnvYYee3N1",
        "colab": {
          "base_uri": "https://localhost:8080/"
        },
        "outputId": "b50bcd30-fd8d-494b-cb45-83563fe7534a"
      },
      "execution_count": null,
      "outputs": [
        {
          "output_type": "stream",
          "name": "stdout",
          "text": [
            "Drive already mounted at /content/drive; to attempt to forcibly remount, call drive.mount(\"/content/drive\", force_remount=True).\n"
          ]
        }
      ]
    },
    {
      "cell_type": "markdown",
      "metadata": {
        "id": "4XdukrdAe1HQ"
      },
      "source": [
        "<h3><font face = 'Times New Roman'>1. Исходные данные</font></h3>\n"
      ]
    },
    {
      "cell_type": "markdown",
      "metadata": {
        "id": "zqjqMODze1HS"
      },
      "source": [
        "Загрузим набор данных:"
      ]
    },
    {
      "cell_type": "code",
      "execution_count": null,
      "metadata": {
        "id": "80Ca9pdle1HT",
        "outputId": "ec1cbb64-e33a-4d08-acd6-125ef5bce33d",
        "colab": {
          "base_uri": "https://localhost:8080/",
          "height": 317
        }
      },
      "outputs": [
        {
          "output_type": "display_data",
          "data": {
            "text/plain": [
              "          0           1           2            3            4           5    \\\n",
              "0  362.495451  261.912010  452.409086   346.583589   454.259111  457.851592   \n",
              "1  631.398467  710.765846  605.316568  1216.133860  1134.422486  564.802756   \n",
              "2  281.413007  239.861253  574.897845   334.552514   343.164792  535.038139   \n",
              "3  246.741026  774.327973  533.211943   501.859696   446.271275  552.804659   \n",
              "4  706.856361  691.299675  609.206074   362.399712   787.262660  636.891045   \n",
              "\n",
              "          6           7           8           9    ...         990  \\\n",
              "0  358.655184  320.894829  625.262571  248.611441  ...  283.737426   \n",
              "1  819.929449  742.284766  509.238808  570.952604  ...  342.104231   \n",
              "2  276.519075  250.362000  274.697806  292.236369  ...  321.063724   \n",
              "3  301.875465  458.305384  479.481328  589.897871  ...  413.909437   \n",
              "4  878.911501  866.620990  567.574418  402.611757  ...  670.746989   \n",
              "\n",
              "          991         992         993         994          995          996  \\\n",
              "0  274.342793  381.920269  425.988655  278.903988   440.998550   506.301274   \n",
              "1  491.532015  988.080655  535.282993  653.289098  1178.932996  1088.792362   \n",
              "2  312.547334  226.792794  361.505097  490.687675   266.717564   221.932938   \n",
              "3  528.007977  365.941545  326.519927  621.538776   426.009559   263.126396   \n",
              "4  869.709853  821.751524  624.395534  307.567076   642.629935   667.865726   \n",
              "\n",
              "          997         998         999  \n",
              "0  281.887457  268.148068  230.138295  \n",
              "1  583.098163  711.283520  787.105772  \n",
              "2  284.093587  298.722878  253.425116  \n",
              "3  514.265309  545.742830  507.889405  \n",
              "4  538.187006  706.410774  652.486298  \n",
              "\n",
              "[5 rows x 1000 columns]"
            ],
            "text/html": [
              "\n",
              "  <div id=\"df-7e5ea450-b600-49c1-b3ac-8abb1b56dec6\">\n",
              "    <div class=\"colab-df-container\">\n",
              "      <div>\n",
              "<style scoped>\n",
              "    .dataframe tbody tr th:only-of-type {\n",
              "        vertical-align: middle;\n",
              "    }\n",
              "\n",
              "    .dataframe tbody tr th {\n",
              "        vertical-align: top;\n",
              "    }\n",
              "\n",
              "    .dataframe thead th {\n",
              "        text-align: right;\n",
              "    }\n",
              "</style>\n",
              "<table border=\"1\" class=\"dataframe\">\n",
              "  <thead>\n",
              "    <tr style=\"text-align: right;\">\n",
              "      <th></th>\n",
              "      <th>0</th>\n",
              "      <th>1</th>\n",
              "      <th>2</th>\n",
              "      <th>3</th>\n",
              "      <th>4</th>\n",
              "      <th>5</th>\n",
              "      <th>6</th>\n",
              "      <th>7</th>\n",
              "      <th>8</th>\n",
              "      <th>9</th>\n",
              "      <th>...</th>\n",
              "      <th>990</th>\n",
              "      <th>991</th>\n",
              "      <th>992</th>\n",
              "      <th>993</th>\n",
              "      <th>994</th>\n",
              "      <th>995</th>\n",
              "      <th>996</th>\n",
              "      <th>997</th>\n",
              "      <th>998</th>\n",
              "      <th>999</th>\n",
              "    </tr>\n",
              "  </thead>\n",
              "  <tbody>\n",
              "    <tr>\n",
              "      <th>0</th>\n",
              "      <td>362.495451</td>\n",
              "      <td>261.912010</td>\n",
              "      <td>452.409086</td>\n",
              "      <td>346.583589</td>\n",
              "      <td>454.259111</td>\n",
              "      <td>457.851592</td>\n",
              "      <td>358.655184</td>\n",
              "      <td>320.894829</td>\n",
              "      <td>625.262571</td>\n",
              "      <td>248.611441</td>\n",
              "      <td>...</td>\n",
              "      <td>283.737426</td>\n",
              "      <td>274.342793</td>\n",
              "      <td>381.920269</td>\n",
              "      <td>425.988655</td>\n",
              "      <td>278.903988</td>\n",
              "      <td>440.998550</td>\n",
              "      <td>506.301274</td>\n",
              "      <td>281.887457</td>\n",
              "      <td>268.148068</td>\n",
              "      <td>230.138295</td>\n",
              "    </tr>\n",
              "    <tr>\n",
              "      <th>1</th>\n",
              "      <td>631.398467</td>\n",
              "      <td>710.765846</td>\n",
              "      <td>605.316568</td>\n",
              "      <td>1216.133860</td>\n",
              "      <td>1134.422486</td>\n",
              "      <td>564.802756</td>\n",
              "      <td>819.929449</td>\n",
              "      <td>742.284766</td>\n",
              "      <td>509.238808</td>\n",
              "      <td>570.952604</td>\n",
              "      <td>...</td>\n",
              "      <td>342.104231</td>\n",
              "      <td>491.532015</td>\n",
              "      <td>988.080655</td>\n",
              "      <td>535.282993</td>\n",
              "      <td>653.289098</td>\n",
              "      <td>1178.932996</td>\n",
              "      <td>1088.792362</td>\n",
              "      <td>583.098163</td>\n",
              "      <td>711.283520</td>\n",
              "      <td>787.105772</td>\n",
              "    </tr>\n",
              "    <tr>\n",
              "      <th>2</th>\n",
              "      <td>281.413007</td>\n",
              "      <td>239.861253</td>\n",
              "      <td>574.897845</td>\n",
              "      <td>334.552514</td>\n",
              "      <td>343.164792</td>\n",
              "      <td>535.038139</td>\n",
              "      <td>276.519075</td>\n",
              "      <td>250.362000</td>\n",
              "      <td>274.697806</td>\n",
              "      <td>292.236369</td>\n",
              "      <td>...</td>\n",
              "      <td>321.063724</td>\n",
              "      <td>312.547334</td>\n",
              "      <td>226.792794</td>\n",
              "      <td>361.505097</td>\n",
              "      <td>490.687675</td>\n",
              "      <td>266.717564</td>\n",
              "      <td>221.932938</td>\n",
              "      <td>284.093587</td>\n",
              "      <td>298.722878</td>\n",
              "      <td>253.425116</td>\n",
              "    </tr>\n",
              "    <tr>\n",
              "      <th>3</th>\n",
              "      <td>246.741026</td>\n",
              "      <td>774.327973</td>\n",
              "      <td>533.211943</td>\n",
              "      <td>501.859696</td>\n",
              "      <td>446.271275</td>\n",
              "      <td>552.804659</td>\n",
              "      <td>301.875465</td>\n",
              "      <td>458.305384</td>\n",
              "      <td>479.481328</td>\n",
              "      <td>589.897871</td>\n",
              "      <td>...</td>\n",
              "      <td>413.909437</td>\n",
              "      <td>528.007977</td>\n",
              "      <td>365.941545</td>\n",
              "      <td>326.519927</td>\n",
              "      <td>621.538776</td>\n",
              "      <td>426.009559</td>\n",
              "      <td>263.126396</td>\n",
              "      <td>514.265309</td>\n",
              "      <td>545.742830</td>\n",
              "      <td>507.889405</td>\n",
              "    </tr>\n",
              "    <tr>\n",
              "      <th>4</th>\n",
              "      <td>706.856361</td>\n",
              "      <td>691.299675</td>\n",
              "      <td>609.206074</td>\n",
              "      <td>362.399712</td>\n",
              "      <td>787.262660</td>\n",
              "      <td>636.891045</td>\n",
              "      <td>878.911501</td>\n",
              "      <td>866.620990</td>\n",
              "      <td>567.574418</td>\n",
              "      <td>402.611757</td>\n",
              "      <td>...</td>\n",
              "      <td>670.746989</td>\n",
              "      <td>869.709853</td>\n",
              "      <td>821.751524</td>\n",
              "      <td>624.395534</td>\n",
              "      <td>307.567076</td>\n",
              "      <td>642.629935</td>\n",
              "      <td>667.865726</td>\n",
              "      <td>538.187006</td>\n",
              "      <td>706.410774</td>\n",
              "      <td>652.486298</td>\n",
              "    </tr>\n",
              "  </tbody>\n",
              "</table>\n",
              "<p>5 rows × 1000 columns</p>\n",
              "</div>\n",
              "      <button class=\"colab-df-convert\" onclick=\"convertToInteractive('df-7e5ea450-b600-49c1-b3ac-8abb1b56dec6')\"\n",
              "              title=\"Convert this dataframe to an interactive table.\"\n",
              "              style=\"display:none;\">\n",
              "        \n",
              "  <svg xmlns=\"http://www.w3.org/2000/svg\" height=\"24px\"viewBox=\"0 0 24 24\"\n",
              "       width=\"24px\">\n",
              "    <path d=\"M0 0h24v24H0V0z\" fill=\"none\"/>\n",
              "    <path d=\"M18.56 5.44l.94 2.06.94-2.06 2.06-.94-2.06-.94-.94-2.06-.94 2.06-2.06.94zm-11 1L8.5 8.5l.94-2.06 2.06-.94-2.06-.94L8.5 2.5l-.94 2.06-2.06.94zm10 10l.94 2.06.94-2.06 2.06-.94-2.06-.94-.94-2.06-.94 2.06-2.06.94z\"/><path d=\"M17.41 7.96l-1.37-1.37c-.4-.4-.92-.59-1.43-.59-.52 0-1.04.2-1.43.59L10.3 9.45l-7.72 7.72c-.78.78-.78 2.05 0 2.83L4 21.41c.39.39.9.59 1.41.59.51 0 1.02-.2 1.41-.59l7.78-7.78 2.81-2.81c.8-.78.8-2.07 0-2.86zM5.41 20L4 18.59l7.72-7.72 1.47 1.35L5.41 20z\"/>\n",
              "  </svg>\n",
              "      </button>\n",
              "      \n",
              "  <style>\n",
              "    .colab-df-container {\n",
              "      display:flex;\n",
              "      flex-wrap:wrap;\n",
              "      gap: 12px;\n",
              "    }\n",
              "\n",
              "    .colab-df-convert {\n",
              "      background-color: #E8F0FE;\n",
              "      border: none;\n",
              "      border-radius: 50%;\n",
              "      cursor: pointer;\n",
              "      display: none;\n",
              "      fill: #1967D2;\n",
              "      height: 32px;\n",
              "      padding: 0 0 0 0;\n",
              "      width: 32px;\n",
              "    }\n",
              "\n",
              "    .colab-df-convert:hover {\n",
              "      background-color: #E2EBFA;\n",
              "      box-shadow: 0px 1px 2px rgba(60, 64, 67, 0.3), 0px 1px 3px 1px rgba(60, 64, 67, 0.15);\n",
              "      fill: #174EA6;\n",
              "    }\n",
              "\n",
              "    [theme=dark] .colab-df-convert {\n",
              "      background-color: #3B4455;\n",
              "      fill: #D2E3FC;\n",
              "    }\n",
              "\n",
              "    [theme=dark] .colab-df-convert:hover {\n",
              "      background-color: #434B5C;\n",
              "      box-shadow: 0px 1px 3px 1px rgba(0, 0, 0, 0.15);\n",
              "      filter: drop-shadow(0px 1px 2px rgba(0, 0, 0, 0.3));\n",
              "      fill: #FFFFFF;\n",
              "    }\n",
              "  </style>\n",
              "\n",
              "      <script>\n",
              "        const buttonEl =\n",
              "          document.querySelector('#df-7e5ea450-b600-49c1-b3ac-8abb1b56dec6 button.colab-df-convert');\n",
              "        buttonEl.style.display =\n",
              "          google.colab.kernel.accessAllowed ? 'block' : 'none';\n",
              "\n",
              "        async function convertToInteractive(key) {\n",
              "          const element = document.querySelector('#df-7e5ea450-b600-49c1-b3ac-8abb1b56dec6');\n",
              "          const dataTable =\n",
              "            await google.colab.kernel.invokeFunction('convertToInteractive',\n",
              "                                                     [key], {});\n",
              "          if (!dataTable) return;\n",
              "\n",
              "          const docLinkHtml = 'Like what you see? Visit the ' +\n",
              "            '<a target=\"_blank\" href=https://colab.research.google.com/notebooks/data_table.ipynb>data table notebook</a>'\n",
              "            + ' to learn more about interactive tables.';\n",
              "          element.innerHTML = '';\n",
              "          dataTable['output_type'] = 'display_data';\n",
              "          await google.colab.output.renderOutput(dataTable, element);\n",
              "          const docLink = document.createElement('div');\n",
              "          docLink.innerHTML = docLinkHtml;\n",
              "          element.appendChild(docLink);\n",
              "        }\n",
              "      </script>\n",
              "    </div>\n",
              "  </div>\n",
              "  "
            ]
          },
          "metadata": {}
        },
        {
          "output_type": "stream",
          "name": "stdout",
          "text": [
            "Shapes:  (10, 1000)\n"
          ]
        }
      ],
      "source": [
        "df = pd.read_csv('/content/drive/MyDrive/first_task.csv', header=None)\n",
        "display(df.head())\n",
        "print('Shapes: ',df.shape)"
      ]
    },
    {
      "cell_type": "markdown",
      "metadata": {
        "id": "3UqMQ72Ye1HU"
      },
      "source": [
        "<font size=\"4\" face = 'Times New Roman'>\n",
        "Судя по результату метода <strong>head()</strong>, файл с данными имеет следующую структуру: <br>\n",
        "    <ul>\n",
        "    <li>Строки - № задания (i = 1, 2, ...)</li>\n",
        "    <li>Стобцы - № студента (j = 1, 2, ...)</li>\n",
        "    <li>Ячейки - время выполнения i-го задания j-м студентом</li>\n",
        "    </ul>\n",
        "</font>"
      ]
    },
    {
      "cell_type": "markdown",
      "metadata": {
        "id": "EU-ijMZpe1HV"
      },
      "source": [
        "<font size=\"4\" face = 'Times New Roman'>Транспонируем данные для удобства обработки</font>"
      ]
    },
    {
      "cell_type": "code",
      "execution_count": null,
      "metadata": {
        "id": "NmGea93be1HW",
        "outputId": "8aac9e4e-be34-458a-93c3-cfadce62793f",
        "colab": {
          "base_uri": "https://localhost:8080/",
          "height": 206
        }
      },
      "outputs": [
        {
          "output_type": "execute_result",
          "data": {
            "text/plain": [
              "            0            1           2           3           4            5  \\\n",
              "0  362.495451   631.398467  281.413007  246.741026  706.856361  1400.250476   \n",
              "1  261.912010   710.765846  239.861253  774.327973  691.299675  1558.808482   \n",
              "2  452.409086   605.316568  574.897845  533.211943  609.206074  2159.848391   \n",
              "3  346.583589  1216.133860  334.552514  501.859696  362.399712  1905.817175   \n",
              "4  454.259111  1134.422486  343.164792  446.271275  787.262660  1230.104503   \n",
              "\n",
              "            6            7           8           9  \n",
              "0  569.530312   748.308126  566.932393  602.551469  \n",
              "1  351.989841  1187.227164  280.782629  321.303545  \n",
              "2  201.780903   554.533211  282.885275  436.671619  \n",
              "3  430.995262   313.674779  274.613090  455.943324  \n",
              "4  321.084511  1157.835703  260.521006  408.721661  "
            ],
            "text/html": [
              "\n",
              "  <div id=\"df-733908ad-9811-42bb-a6d6-d3b0e06acacb\">\n",
              "    <div class=\"colab-df-container\">\n",
              "      <div>\n",
              "<style scoped>\n",
              "    .dataframe tbody tr th:only-of-type {\n",
              "        vertical-align: middle;\n",
              "    }\n",
              "\n",
              "    .dataframe tbody tr th {\n",
              "        vertical-align: top;\n",
              "    }\n",
              "\n",
              "    .dataframe thead th {\n",
              "        text-align: right;\n",
              "    }\n",
              "</style>\n",
              "<table border=\"1\" class=\"dataframe\">\n",
              "  <thead>\n",
              "    <tr style=\"text-align: right;\">\n",
              "      <th></th>\n",
              "      <th>0</th>\n",
              "      <th>1</th>\n",
              "      <th>2</th>\n",
              "      <th>3</th>\n",
              "      <th>4</th>\n",
              "      <th>5</th>\n",
              "      <th>6</th>\n",
              "      <th>7</th>\n",
              "      <th>8</th>\n",
              "      <th>9</th>\n",
              "    </tr>\n",
              "  </thead>\n",
              "  <tbody>\n",
              "    <tr>\n",
              "      <th>0</th>\n",
              "      <td>362.495451</td>\n",
              "      <td>631.398467</td>\n",
              "      <td>281.413007</td>\n",
              "      <td>246.741026</td>\n",
              "      <td>706.856361</td>\n",
              "      <td>1400.250476</td>\n",
              "      <td>569.530312</td>\n",
              "      <td>748.308126</td>\n",
              "      <td>566.932393</td>\n",
              "      <td>602.551469</td>\n",
              "    </tr>\n",
              "    <tr>\n",
              "      <th>1</th>\n",
              "      <td>261.912010</td>\n",
              "      <td>710.765846</td>\n",
              "      <td>239.861253</td>\n",
              "      <td>774.327973</td>\n",
              "      <td>691.299675</td>\n",
              "      <td>1558.808482</td>\n",
              "      <td>351.989841</td>\n",
              "      <td>1187.227164</td>\n",
              "      <td>280.782629</td>\n",
              "      <td>321.303545</td>\n",
              "    </tr>\n",
              "    <tr>\n",
              "      <th>2</th>\n",
              "      <td>452.409086</td>\n",
              "      <td>605.316568</td>\n",
              "      <td>574.897845</td>\n",
              "      <td>533.211943</td>\n",
              "      <td>609.206074</td>\n",
              "      <td>2159.848391</td>\n",
              "      <td>201.780903</td>\n",
              "      <td>554.533211</td>\n",
              "      <td>282.885275</td>\n",
              "      <td>436.671619</td>\n",
              "    </tr>\n",
              "    <tr>\n",
              "      <th>3</th>\n",
              "      <td>346.583589</td>\n",
              "      <td>1216.133860</td>\n",
              "      <td>334.552514</td>\n",
              "      <td>501.859696</td>\n",
              "      <td>362.399712</td>\n",
              "      <td>1905.817175</td>\n",
              "      <td>430.995262</td>\n",
              "      <td>313.674779</td>\n",
              "      <td>274.613090</td>\n",
              "      <td>455.943324</td>\n",
              "    </tr>\n",
              "    <tr>\n",
              "      <th>4</th>\n",
              "      <td>454.259111</td>\n",
              "      <td>1134.422486</td>\n",
              "      <td>343.164792</td>\n",
              "      <td>446.271275</td>\n",
              "      <td>787.262660</td>\n",
              "      <td>1230.104503</td>\n",
              "      <td>321.084511</td>\n",
              "      <td>1157.835703</td>\n",
              "      <td>260.521006</td>\n",
              "      <td>408.721661</td>\n",
              "    </tr>\n",
              "  </tbody>\n",
              "</table>\n",
              "</div>\n",
              "      <button class=\"colab-df-convert\" onclick=\"convertToInteractive('df-733908ad-9811-42bb-a6d6-d3b0e06acacb')\"\n",
              "              title=\"Convert this dataframe to an interactive table.\"\n",
              "              style=\"display:none;\">\n",
              "        \n",
              "  <svg xmlns=\"http://www.w3.org/2000/svg\" height=\"24px\"viewBox=\"0 0 24 24\"\n",
              "       width=\"24px\">\n",
              "    <path d=\"M0 0h24v24H0V0z\" fill=\"none\"/>\n",
              "    <path d=\"M18.56 5.44l.94 2.06.94-2.06 2.06-.94-2.06-.94-.94-2.06-.94 2.06-2.06.94zm-11 1L8.5 8.5l.94-2.06 2.06-.94-2.06-.94L8.5 2.5l-.94 2.06-2.06.94zm10 10l.94 2.06.94-2.06 2.06-.94-2.06-.94-.94-2.06-.94 2.06-2.06.94z\"/><path d=\"M17.41 7.96l-1.37-1.37c-.4-.4-.92-.59-1.43-.59-.52 0-1.04.2-1.43.59L10.3 9.45l-7.72 7.72c-.78.78-.78 2.05 0 2.83L4 21.41c.39.39.9.59 1.41.59.51 0 1.02-.2 1.41-.59l7.78-7.78 2.81-2.81c.8-.78.8-2.07 0-2.86zM5.41 20L4 18.59l7.72-7.72 1.47 1.35L5.41 20z\"/>\n",
              "  </svg>\n",
              "      </button>\n",
              "      \n",
              "  <style>\n",
              "    .colab-df-container {\n",
              "      display:flex;\n",
              "      flex-wrap:wrap;\n",
              "      gap: 12px;\n",
              "    }\n",
              "\n",
              "    .colab-df-convert {\n",
              "      background-color: #E8F0FE;\n",
              "      border: none;\n",
              "      border-radius: 50%;\n",
              "      cursor: pointer;\n",
              "      display: none;\n",
              "      fill: #1967D2;\n",
              "      height: 32px;\n",
              "      padding: 0 0 0 0;\n",
              "      width: 32px;\n",
              "    }\n",
              "\n",
              "    .colab-df-convert:hover {\n",
              "      background-color: #E2EBFA;\n",
              "      box-shadow: 0px 1px 2px rgba(60, 64, 67, 0.3), 0px 1px 3px 1px rgba(60, 64, 67, 0.15);\n",
              "      fill: #174EA6;\n",
              "    }\n",
              "\n",
              "    [theme=dark] .colab-df-convert {\n",
              "      background-color: #3B4455;\n",
              "      fill: #D2E3FC;\n",
              "    }\n",
              "\n",
              "    [theme=dark] .colab-df-convert:hover {\n",
              "      background-color: #434B5C;\n",
              "      box-shadow: 0px 1px 3px 1px rgba(0, 0, 0, 0.15);\n",
              "      filter: drop-shadow(0px 1px 2px rgba(0, 0, 0, 0.3));\n",
              "      fill: #FFFFFF;\n",
              "    }\n",
              "  </style>\n",
              "\n",
              "      <script>\n",
              "        const buttonEl =\n",
              "          document.querySelector('#df-733908ad-9811-42bb-a6d6-d3b0e06acacb button.colab-df-convert');\n",
              "        buttonEl.style.display =\n",
              "          google.colab.kernel.accessAllowed ? 'block' : 'none';\n",
              "\n",
              "        async function convertToInteractive(key) {\n",
              "          const element = document.querySelector('#df-733908ad-9811-42bb-a6d6-d3b0e06acacb');\n",
              "          const dataTable =\n",
              "            await google.colab.kernel.invokeFunction('convertToInteractive',\n",
              "                                                     [key], {});\n",
              "          if (!dataTable) return;\n",
              "\n",
              "          const docLinkHtml = 'Like what you see? Visit the ' +\n",
              "            '<a target=\"_blank\" href=https://colab.research.google.com/notebooks/data_table.ipynb>data table notebook</a>'\n",
              "            + ' to learn more about interactive tables.';\n",
              "          element.innerHTML = '';\n",
              "          dataTable['output_type'] = 'display_data';\n",
              "          await google.colab.output.renderOutput(dataTable, element);\n",
              "          const docLink = document.createElement('div');\n",
              "          docLink.innerHTML = docLinkHtml;\n",
              "          element.appendChild(docLink);\n",
              "        }\n",
              "      </script>\n",
              "    </div>\n",
              "  </div>\n",
              "  "
            ]
          },
          "metadata": {},
          "execution_count": 4
        }
      ],
      "source": [
        "df = df.transpose()\n",
        "df.head()"
      ]
    },
    {
      "cell_type": "markdown",
      "metadata": {
        "id": "r9p4iCUie1HW"
      },
      "source": [
        "<h3><font face = 'Times New Roman'>2. Распределение времени решения заданий</font></h3>"
      ]
    },
    {
      "cell_type": "code",
      "execution_count": null,
      "metadata": {
        "id": "igEB4XdPe1HX",
        "outputId": "4d264421-057d-43e6-e763-183f091d124f",
        "colab": {
          "base_uri": "https://localhost:8080/",
          "height": 877
        }
      },
      "outputs": [
        {
          "output_type": "display_data",
          "data": {
            "text/plain": [
              "<Figure size 1080x1080 with 12 Axes>"
            ],
            "image/png": "[encoded data removed]"
          },
          "metadata": {
            "needs_background": "light"
          }
        }
      ],
      "source": [
        "#df.hist(figsize=(20, 20), bins = 25);\n",
        "fig, ax = plt.subplots(4, 3, figsize = (15, 15))\n",
        "n = len(df.columns.tolist())\n",
        "cols = 0\n",
        "for i in range(0, 4):\n",
        "    for j in range(0, 3):\n",
        "        if (cols < n):\n",
        "            sns.histplot(df.iloc[:, cols], stat='density', common_bins= False, common_norm= False, kde = True, ax = ax[i][j], bins = 20)\n",
        "        cols += 1\n",
        "plt.savefig('distrib.png')"
      ]
    },
    {
      "cell_type": "markdown",
      "metadata": {
        "id": "YjaVbZbRe1HY"
      },
      "source": [
        "<div><font size=\"4\" face = 'Times New Roman'>Построим гистграммы распределения времени по каждому из заданий:</font>\n",
        "<img src='https://github.com/JacKira/SDO/blob/main/distrib.png?raw=1' style = \"width:70%; height:70%; padding:0; border:0\" hspace = \"0\" vspace=\"0\"></div>"
      ]
    },
    {
      "cell_type": "markdown",
      "metadata": {
        "id": "Et7FXBpye1HZ"
      },
      "source": [
        "<font size=\"3\" face = 'Times New Roman'>Можно заметить, что большинство распределений по форме напоминают распределение хи-квадрат Пирсона.</font>"
      ]
    },
    {
      "cell_type": "markdown",
      "metadata": {
        "id": "Hxmhj-7be1Ha"
      },
      "source": [
        "<h3><font  face = 'Times New Roman'>3. Проверяемая гипотеза</font></h3>\n",
        "<font size=\"4\" face = 'Times New Roman'>Так как все задания имеют схожие распределения, исследуем гипотезы на задании 0.<br>\n",
        "По классической схеме, выдвенем нулевую гипотезу <font size = \"5\">H</font>0 и альтернативную <font size = \"5\">H</font>1: <br>\n",
        "    <ul>\n",
        "    <li><font size = \"5\">H</font>0: Время выполнения задания 0 имеет принадлежность к закону распределния Хи - квадрат -Пирсона.</li>\n",
        "    <li><font size = \"5\">H</font>1: Распределение времени отлично от закона распределения  Хи - квадрат -Пирсона.</li>\n",
        "    </ul>\n",
        "\n",
        "И сразу же установим уровень значимости $\\alpha=0.05$\n",
        "<font>"
      ]
    },
    {
      "cell_type": "markdown",
      "metadata": {
        "id": "12luEmile1Hb"
      },
      "source": [
        "<h3><font  face = 'Times New Roman'>4. Проверка гипотезы</font></h3>"
      ]
    },
    {
      "cell_type": "markdown",
      "metadata": {
        "id": "ZGHczeY0e1Hb"
      },
      "source": [
        "<p style = \"text-align:justify; margin-left:5%; margin-right:5%\"><font size=\"4\" face = 'Times New Roman'>Чтобы проверить данную гипотезу можно воспользоватья критерием согласия хи-квадрат. При этом, так как мы проверяем сложную гипотезу (хотим проверить принадлежность к целому классу распределений), то нам необходимо сначала оценить параметры данного распределения. Сделаем это с помощью метода максимального правдоподобия (теоретически доказано, что это лучший способ оценки параметров для таких задач) по таблице частотности.  <br>\n",
        "Составим таблицу частотности - разобьем выборку по заданию  на 10 интервалов (воспользуемся 10-ю последовательными квантилями), а затем посчитаем частоты попадания в каждый интервал:\n",
        "</font>\n",
        "</p>"
      ]
    },
    {
      "cell_type": "code",
      "source": [
        "df_results = pd.DataFrame({'Distribution':[], 'difference_p_value':[]})\n",
        "df_results.Distribution = df_results.Distribution.astype(object)\n",
        "df_results.difference_p_value = df_results.difference_p_value.astype(float)"
      ],
      "metadata": {
        "id": "DHFJ2yFLs5_4"
      },
      "execution_count": null,
      "outputs": []
    },
    {
      "cell_type": "code",
      "execution_count": null,
      "metadata": {
        "id": "SloYsmLCe1Hc"
      },
      "outputs": [],
      "source": [
        "# Разбиваем на интервалы\n",
        "task_number = 0 # Номер задания, для которого проверяем гипотезу\n",
        "intervals = [df[task_number].min()]\n",
        "x_ = [0.]\n",
        "for q in np.arange(0.1, 1, 0.1):\n",
        "    intervals.append(round(np.quantile(df[task_number], q), 0))\n",
        "    x_.append(q)\n",
        "intervals.append(df[task_number].max())\n",
        "x_.append(1.)"
      ]
    },
    {
      "cell_type": "code",
      "execution_count": null,
      "metadata": {
        "id": "ReavUu6ye1Hd",
        "outputId": "515a9cd2-b30a-4f07-d645-9f02e231cb37",
        "colab": {
          "base_uri": "https://localhost:8080/",
          "height": 392
        }
      },
      "outputs": [
        {
          "output_type": "stream",
          "name": "stderr",
          "text": [
            "/usr/local/lib/python3.7/dist-packages/ipykernel_launcher.py:4: MatplotlibDeprecationWarning: Passing the minor parameter of set_xticks() positionally is deprecated since Matplotlib 3.2; the parameter will become keyword-only two minor releases later.\n",
            "  after removing the cwd from sys.path.\n"
          ]
        },
        {
          "output_type": "display_data",
          "data": {
            "text/plain": [
              "<Figure size 720x360 with 1 Axes>"
            ],
            "image/png": "[encoded data removed]"
          },
          "metadata": {
            "needs_background": "light"
          }
        }
      ],
      "source": [
        "fig, ax = plt.subplots(figsize = (10, 5))\n",
        "labls = (\"% \".join(list(map(str,np.round(np.arange(0, 1.1, 0.1) * 100, 2))))).split(' ')\n",
        "plt.bar(np.arange(0, len(labls)), height = intervals) # Полученные границы интервалов\n",
        "ax.set_xticks(np.arange(0, len(labls)), labls)\n",
        "ax.set_title('Граница значений процентилей')\n",
        "plt.show()"
      ]
    },
    {
      "cell_type": "code",
      "execution_count": null,
      "metadata": {
        "id": "wQ7IrGW7e1Hd",
        "outputId": "0969b803-ae45-4f5f-d989-71236ffecf84",
        "colab": {
          "base_uri": "https://localhost:8080/"
        }
      },
      "outputs": [
        {
          "output_type": "execute_result",
          "data": {
            "text/plain": [
              "[100, 103, 97, 99, 99, 101, 98, 103, 98, 102]"
            ]
          },
          "metadata": {},
          "execution_count": 9
        }
      ],
      "source": [
        "# Сотавляем вектор наблюдений (таблица частотности)\n",
        "observations = []\n",
        "for i in range(len(intervals) - 1):\n",
        "    observations.append(len(df[task_number][(df[task_number] >= intervals[i])&(df[task_number] <=intervals[i + 1])]))\n",
        "observations"
      ]
    },
    {
      "cell_type": "code",
      "execution_count": null,
      "metadata": {
        "id": "fjutBZpIe1He",
        "outputId": "7fc0b416-5697-4589-9469-c1b6173ceb21",
        "colab": {
          "base_uri": "https://localhost:8080/",
          "height": 336
        }
      },
      "outputs": [
        {
          "output_type": "display_data",
          "data": {
            "text/plain": [
              "<Figure size 720x360 with 1 Axes>"
            ],
            "image/png": "[encoded data removed]"
          },
          "metadata": {
            "needs_background": "light"
          }
        }
      ],
      "source": [
        "fig, ax = plt.subplots(figsize = (10, 5))\n",
        "plt.bar(np.arange(0, len(observations)), height = observations) \n",
        "\n",
        "ax.set_title('Размер выборки в зависимости от интервала')\n",
        "plt.show()"
      ]
    },
    {
      "cell_type": "markdown",
      "metadata": {
        "id": "EfDKKTN5e1Hf"
      },
      "source": [
        "<h3><font  face = 'Times New Roman'> 5. Получение оценок параметров</font><h3>"
      ]
    },
    {
      "cell_type": "markdown",
      "metadata": {
        "id": "ZsfEE5Tce1Hf"
      },
      "source": [
        "<p style = 'text-align:justify'><font size = \"4\"  face = 'Times New Roman'>\n",
        "Оценим неизвестные параметры распределения хи-квадрат с помощью ММП (воспользуемся специальной функцией `stats.chi2.fit`):</font>\n",
        "</p>"
      ]
    },
    {
      "cell_type": "code",
      "execution_count": null,
      "metadata": {
        "id": "4kwWIojFe1Hf",
        "outputId": "dc1d6f9d-0fad-4a48-c200-a530244d2cbf",
        "colab": {
          "base_uri": "https://localhost:8080/"
        }
      },
      "outputs": [
        {
          "output_type": "stream",
          "name": "stdout",
          "text": [
            "df1 = 10, loc1 = 117.4, scale1 = 26.7\n"
          ]
        }
      ],
      "source": [
        "df1, loc1, scale1 = stats.chi2.fit(df[task_number], fdf=10)\n",
        "print(f'df1 = {df1}, loc1 = {loc1:.4}, scale1 = {scale1:.3}')"
      ]
    },
    {
      "cell_type": "code",
      "execution_count": null,
      "metadata": {
        "id": "cKhW3joIe1Hg",
        "outputId": "bbb0563f-3fb8-4ad0-e54f-16a60dfa0795",
        "colab": {
          "base_uri": "https://localhost:8080/",
          "height": 279
        }
      },
      "outputs": [
        {
          "output_type": "display_data",
          "data": {
            "text/plain": [
              "<Figure size 432x288 with 1 Axes>"
            ],
            "image/png": "[encoded data removed]"
          },
          "metadata": {
            "needs_background": "light"
          }
        }
      ],
      "source": [
        "fig, ax = plt.subplots()\n",
        "\n",
        "sns.histplot(data=df[task_number], color='b', element='poly', fill=False, stat='density', label='task 0', ax=ax)\n",
        "\n",
        "chi2_rv1 = stats.chi2(df1, loc1, scale1)\n",
        "x = np.linspace(min(intervals), max(intervals), 1000)\n",
        "sns.lineplot(x=x, y=chi2_rv1.pdf(x), color='r', label='pdf(task 0)', ax=ax)\n",
        "ax.set_xlabel('time');\n",
        "plt.savefig('est_plot.png')"
      ]
    },
    {
      "cell_type": "markdown",
      "metadata": {
        "id": "ZVc4P40Ke1Hg"
      },
      "source": [
        "<p style = 'text-align:justify'><font size = \"3\"  face = 'Times New Roman'>Построим на графике эмпиричускую плотность распреления (наблюдаемую нами) и теоретическую (построенную с использованием оцененных параметров):</font></p>\n",
        "<div>\n",
        "<img src='https://github.com/JacKira/SDO/blob/main/est_plot.png?raw=1' style = \"width:40%; height:40%; padding:0; border:0\" hspace = \"0\" vspace=\"0\"></div>"
      ]
    },
    {
      "cell_type": "markdown",
      "metadata": {
        "id": "SaHXuwjIe1Hh"
      },
      "source": [
        "<p style = 'text-align:justify'><font size = \"3\"  face = 'Times New Roman'>Видим, что мы довольно хорошо приближаем наблюдаемые значения распределением $\\chi^2$ с оцененными параметрами, поэтому вряд ли есть основания отвергать $H_0$.  \n",
        "Но все равно выполним статистическую проверку гипотезы методом $\\chi^2$ - для этого сформируем теоретический вектор частот и воспользуемся функцией (`stats.chisquare`):\n",
        "</font>\n",
        "</p>"
      ]
    },
    {
      "cell_type": "code",
      "execution_count": null,
      "metadata": {
        "id": "MhQ1oR5Ke1Hh"
      },
      "outputs": [],
      "source": [
        "# Составляем теоретический вектор частот\n",
        "n = np.sum(observations)\n",
        "theory = []\n",
        "for i in range(len(intervals) - 2):\n",
        "    p = stats.chi2.cdf(x=intervals[i + 1], df=df1, loc=loc1, scale=scale1) - stats.chi2.cdf(x=intervals[i], df=df1, loc=loc1, scale=scale1)\n",
        "    theory.append(int(round(p*n, 0)))\n",
        "p = 1 - stats.chi2.cdf(x=intervals[-2], df=df1, loc=loc1, scale=scale1)\n",
        "theory.append(n - np.sum(theory))"
      ]
    },
    {
      "cell_type": "code",
      "execution_count": null,
      "metadata": {
        "id": "Uke8igi6e1Hi",
        "outputId": "66f7f0f8-9950-4412-861f-0ad59172b3b6",
        "colab": {
          "base_uri": "https://localhost:8080/"
        }
      },
      "outputs": [
        {
          "output_type": "execute_result",
          "data": {
            "text/plain": [
              "True"
            ]
          },
          "metadata": {},
          "execution_count": 14
        }
      ],
      "source": [
        "# важно, чтобы суммы значений обоих векторов совпадали (иначе функция не заработает)\n",
        "sum(observations) == sum(theory)"
      ]
    },
    {
      "cell_type": "code",
      "execution_count": null,
      "metadata": {
        "id": "jXdLBXHOe1Hi",
        "outputId": "c9b3e332-69cb-4a96-8d9a-5aa69cd493d6",
        "colab": {
          "base_uri": "https://localhost:8080/"
        }
      },
      "outputs": [
        {
          "output_type": "execute_result",
          "data": {
            "text/plain": [
              "Power_divergenceResult(statistic=7.401716536060914, pvalue=0.38828416182152853)"
            ]
          },
          "metadata": {},
          "execution_count": 15
        }
      ],
      "source": [
        "# Проверяем гипотезу\n",
        "res = stats.chisquare(\n",
        "    f_obs=observations, \n",
        "    f_exp=theory, \n",
        "    ddof=2 # не забываем, что мы оценили 2 параметра по выборке\n",
        ")\n",
        "df_results=df_results.append({'Distribution':'Хи-квдарат Пирсона', 'difference_p_value':res[1]}, ignore_index = True)\n",
        "res"
      ]
    },
    {
      "cell_type": "code",
      "source": [
        "df_results"
      ],
      "metadata": {
        "colab": {
          "base_uri": "https://localhost:8080/",
          "height": 81
        },
        "id": "aH5gs2bJw3QQ",
        "outputId": "aa0f1025-01ed-4d15-b48a-0cda7ba1415f"
      },
      "execution_count": null,
      "outputs": [
        {
          "output_type": "execute_result",
          "data": {
            "text/plain": [
              "         Distribution  difference_p_value\n",
              "0  Хи-квдарат Пирсона            0.388284"
            ],
            "text/html": [
              "\n",
              "  <div id=\"df-a75b51fb-4509-4cba-8db2-c4601d9f11b2\">\n",
              "    <div class=\"colab-df-container\">\n",
              "      <div>\n",
              "<style scoped>\n",
              "    .dataframe tbody tr th:only-of-type {\n",
              "        vertical-align: middle;\n",
              "    }\n",
              "\n",
              "    .dataframe tbody tr th {\n",
              "        vertical-align: top;\n",
              "    }\n",
              "\n",
              "    .dataframe thead th {\n",
              "        text-align: right;\n",
              "    }\n",
              "</style>\n",
              "<table border=\"1\" class=\"dataframe\">\n",
              "  <thead>\n",
              "    <tr style=\"text-align: right;\">\n",
              "      <th></th>\n",
              "      <th>Distribution</th>\n",
              "      <th>difference_p_value</th>\n",
              "    </tr>\n",
              "  </thead>\n",
              "  <tbody>\n",
              "    <tr>\n",
              "      <th>0</th>\n",
              "      <td>Хи-квдарат Пирсона</td>\n",
              "      <td>0.388284</td>\n",
              "    </tr>\n",
              "  </tbody>\n",
              "</table>\n",
              "</div>\n",
              "      <button class=\"colab-df-convert\" onclick=\"convertToInteractive('df-a75b51fb-4509-4cba-8db2-c4601d9f11b2')\"\n",
              "              title=\"Convert this dataframe to an interactive table.\"\n",
              "              style=\"display:none;\">\n",
              "        \n",
              "  <svg xmlns=\"http://www.w3.org/2000/svg\" height=\"24px\"viewBox=\"0 0 24 24\"\n",
              "       width=\"24px\">\n",
              "    <path d=\"M0 0h24v24H0V0z\" fill=\"none\"/>\n",
              "    <path d=\"M18.56 5.44l.94 2.06.94-2.06 2.06-.94-2.06-.94-.94-2.06-.94 2.06-2.06.94zm-11 1L8.5 8.5l.94-2.06 2.06-.94-2.06-.94L8.5 2.5l-.94 2.06-2.06.94zm10 10l.94 2.06.94-2.06 2.06-.94-2.06-.94-.94-2.06-.94 2.06-2.06.94z\"/><path d=\"M17.41 7.96l-1.37-1.37c-.4-.4-.92-.59-1.43-.59-.52 0-1.04.2-1.43.59L10.3 9.45l-7.72 7.72c-.78.78-.78 2.05 0 2.83L4 21.41c.39.39.9.59 1.41.59.51 0 1.02-.2 1.41-.59l7.78-7.78 2.81-2.81c.8-.78.8-2.07 0-2.86zM5.41 20L4 18.59l7.72-7.72 1.47 1.35L5.41 20z\"/>\n",
              "  </svg>\n",
              "      </button>\n",
              "      \n",
              "  <style>\n",
              "    .colab-df-container {\n",
              "      display:flex;\n",
              "      flex-wrap:wrap;\n",
              "      gap: 12px;\n",
              "    }\n",
              "\n",
              "    .colab-df-convert {\n",
              "      background-color: #E8F0FE;\n",
              "      border: none;\n",
              "      border-radius: 50%;\n",
              "      cursor: pointer;\n",
              "      display: none;\n",
              "      fill: #1967D2;\n",
              "      height: 32px;\n",
              "      padding: 0 0 0 0;\n",
              "      width: 32px;\n",
              "    }\n",
              "\n",
              "    .colab-df-convert:hover {\n",
              "      background-color: #E2EBFA;\n",
              "      box-shadow: 0px 1px 2px rgba(60, 64, 67, 0.3), 0px 1px 3px 1px rgba(60, 64, 67, 0.15);\n",
              "      fill: #174EA6;\n",
              "    }\n",
              "\n",
              "    [theme=dark] .colab-df-convert {\n",
              "      background-color: #3B4455;\n",
              "      fill: #D2E3FC;\n",
              "    }\n",
              "\n",
              "    [theme=dark] .colab-df-convert:hover {\n",
              "      background-color: #434B5C;\n",
              "      box-shadow: 0px 1px 3px 1px rgba(0, 0, 0, 0.15);\n",
              "      filter: drop-shadow(0px 1px 2px rgba(0, 0, 0, 0.3));\n",
              "      fill: #FFFFFF;\n",
              "    }\n",
              "  </style>\n",
              "\n",
              "      <script>\n",
              "        const buttonEl =\n",
              "          document.querySelector('#df-a75b51fb-4509-4cba-8db2-c4601d9f11b2 button.colab-df-convert');\n",
              "        buttonEl.style.display =\n",
              "          google.colab.kernel.accessAllowed ? 'block' : 'none';\n",
              "\n",
              "        async function convertToInteractive(key) {\n",
              "          const element = document.querySelector('#df-a75b51fb-4509-4cba-8db2-c4601d9f11b2');\n",
              "          const dataTable =\n",
              "            await google.colab.kernel.invokeFunction('convertToInteractive',\n",
              "                                                     [key], {});\n",
              "          if (!dataTable) return;\n",
              "\n",
              "          const docLinkHtml = 'Like what you see? Visit the ' +\n",
              "            '<a target=\"_blank\" href=https://colab.research.google.com/notebooks/data_table.ipynb>data table notebook</a>'\n",
              "            + ' to learn more about interactive tables.';\n",
              "          element.innerHTML = '';\n",
              "          dataTable['output_type'] = 'display_data';\n",
              "          await google.colab.output.renderOutput(dataTable, element);\n",
              "          const docLink = document.createElement('div');\n",
              "          docLink.innerHTML = docLinkHtml;\n",
              "          element.appendChild(docLink);\n",
              "        }\n",
              "      </script>\n",
              "    </div>\n",
              "  </div>\n",
              "  "
            ]
          },
          "metadata": {},
          "execution_count": 16
        }
      ]
    },
    {
      "cell_type": "markdown",
      "metadata": {
        "id": "kKIYbQiRe1Hi"
      },
      "source": [
        "<p style = 'text-align:justify'><font size = \"3\"  face = 'Times New Roman'>Видим, что pvalue $ > \\alpha=0.05$ -> у нас нет оснований отвергать $H_0$. Можем сделать вывод о том, что время выполнения задания 0 подчиняется распределению $\\chi^2$-Пирсона.</font></p>"
      ]
    },
    {
      "cell_type": "markdown",
      "metadata": {
        "id": "uXoHPpvRe1Hj"
      },
      "source": [
        "### Гамма распределение"
      ]
    },
    {
      "cell_type": "markdown",
      "metadata": {
        "id": "Xx3G-Xrge1Hj"
      },
      "source": [
        "<p style = 'text-align:justify'><font size = \"3\"  face = 'Times New Roman'>Получим параметры подходящих гамма-распределений и проверим гипотезу согласия наблюдаемых выборок полученным гамма-распределениям:</font></p>"
      ]
    },
    {
      "cell_type": "code",
      "execution_count": null,
      "metadata": {
        "id": "PfqF4zdMe1Hj",
        "outputId": "3549b9ac-6a86-4d1a-a262-a21d4b66fc57",
        "colab": {
          "base_uri": "https://localhost:8080/"
        }
      },
      "outputs": [
        {
          "output_type": "stream",
          "name": "stdout",
          "text": [
            "Для задания 0 H0 не отвергнута (p_value = 0.366)\n",
            "C параметрами a = 5.55; loc = 107.53; scale = 49.99\n"
          ]
        }
      ],
      "source": [
        "alpha = 0.05 # уровень значимости\n",
        "to_plot = []\n",
        "\n",
        "\n",
        "intervals = [df[task_number].min()]\n",
        "for q in np.arange(0.1, 1, 0.1):\n",
        "    intervals.append(round(np.quantile(df[task_number], q), 0))\n",
        "intervals.append(df[task_number].max())\n",
        "\n",
        "# составляем вектор наблюдаемых частот\n",
        "observations = []\n",
        "for i in range(len(intervals) - 1):\n",
        "    observations.append(len(df[task_number][(df[task_number] >= intervals[i]) & (df[task_number] <= intervals[i + 1])]))\n",
        "\n",
        "# Определяем оценки параметров Гамма-распределения методом ММП\n",
        "a, loc1, scale1 = stats.gamma.fit(df[task_number])\n",
        "\n",
        "# Составляем теоретических ветор частот\n",
        "n = np.sum(observations)\n",
        "theory = []\n",
        "for i in range(len(intervals) - 2):\n",
        "    p = stats.gamma.cdf(x=intervals[i + 1], a=a, loc=loc1, scale=scale1) - stats.gamma.cdf(x=intervals[i], a=a, loc=loc1, scale=scale1)\n",
        "    theory.append(int(round(p*n, 0)))\n",
        "p = 1 - stats.gamma.cdf(x=intervals[-2], a=a, loc=loc1, scale=scale1)\n",
        "theory.append(n - np.sum(theory))\n",
        "\n",
        "# Проверяем гипотезу\n",
        "stat, p_value = stats.chisquare(\n",
        "    f_obs=observations, \n",
        "    f_exp=theory,\n",
        "    ddof=2\n",
        ")\n",
        "df_results=df_results.append({'Distribution':'Гамма распределение', 'difference_p_value':p_value}, ignore_index = True)\n",
        "\n",
        "if p_value > alpha:\n",
        "    print(f'Для задания {task_number} H0 не отвергнута (p_value = {p_value:.3f})')\n",
        "    print(f'C параметрами a = {round(a,2)}; loc = {round(loc1,2)}; scale = {round(scale1,2)}')\n",
        "    to_plot.append(task_number)\n",
        "else:\n",
        "    print(f'Для задания {task_number} H0 отвергнута (p_value = {p_value:.3f})')\n"
      ]
    },
    {
      "cell_type": "markdown",
      "metadata": {
        "id": "EJ6BXjCKe1Hk"
      },
      "source": [
        "<p style = 'text-align:justify'><font size = \"3\"  face = 'Times New Roman'>Видим, что для задания 0 мы можем сделать вывод о том, что распределение времени выполнения задания соответствует закону Гамма-распределению с подобранными параметрами.  <br><br>\n",
        "Отобразим полученное распределение:\n",
        "</font>\n",
        "</p>"
      ]
    },
    {
      "cell_type": "code",
      "execution_count": null,
      "metadata": {
        "id": "aWnhOrvAe1Hk",
        "outputId": "ac102e4e-43e4-445a-beae-56b3994b7b52",
        "colab": {
          "base_uri": "https://localhost:8080/",
          "height": 295
        }
      },
      "outputs": [
        {
          "output_type": "display_data",
          "data": {
            "text/plain": [
              "<Figure size 432x288 with 1 Axes>"
            ],
            "image/png": "[encoded data removed]"
          },
          "metadata": {
            "needs_background": "light"
          }
        }
      ],
      "source": [
        "\n",
        "intervals = [df[task_number].min()]\n",
        "for q in np.arange(0.1, 1, 0.1):\n",
        "    intervals.append(round(np.quantile(df[task_number], q), 0))\n",
        "intervals.append(df[task_number].max())\n",
        "observations = []\n",
        "for i in range(len(intervals) - 1):\n",
        "    observations.append(len(df[task_number][(df[task_number] >= intervals[i]) & (df[task_number] <= intervals[i + 1])]))\n",
        "\n",
        "\n",
        "a, loc1, scale1 = stats.gamma.fit(df[task_number])\n",
        "n = np.sum(observations)\n",
        "theory = []\n",
        "for i in range(len(intervals) - 2):\n",
        "    p = stats.gamma.cdf(x=intervals[i + 1], a=a, loc=loc1, scale=scale1) - stats.gamma.cdf(x=intervals[i], a=a, loc=loc1, scale=scale1)\n",
        "    theory.append(int(round(p*n, 0)))\n",
        "p = 1 - stats.gamma.cdf(x=intervals[-2], a=a, loc=loc1, scale=scale1)\n",
        "theory.append(n - np.sum(theory))\n",
        "\n",
        "fig, ax = plt.subplots()\n",
        "ax.set_title(f'Задание {task_number}')\n",
        "sns.histplot(data=df[task_number], color='b', element='poly', fill=False, stat='density', label=f'histplot task {task_number}', ax=ax)\n",
        "\n",
        "gam = stats.gamma(a, loc1, scale1)\n",
        "x = np.linspace(min(intervals), max(intervals), 1000)\n",
        "sns.lineplot(x=x, y=gam.pdf(x), color='r', label=f'gamma pdf(task {task_number})', ax=ax)\n",
        "ax.set_xlabel('time');\n",
        "plt.savefig('gamma_est_plot.png')"
      ]
    },
    {
      "cell_type": "markdown",
      "metadata": {
        "id": "yKzDFa42e1Hl"
      },
      "source": [
        "<p style = 'text-align:justify'><font size = \"3\"  face = 'Times New Roman'>Отобразим полученное распределение:<br>Как видно, подобранное Гамма распределение достаточно хорошо описыват распределение времени выполнения задания 0</font>\n",
        "<div>\n",
        "<img src='https://github.com/JacKira/SDO/blob/main/gamma_est_plot.png?raw=1' style = \"width:40%; height:40%; padding:0; border:0\" hspace = \"0\" vspace=\"0\"></div></p>"
      ]
    },
    {
      "cell_type": "markdown",
      "metadata": {
        "id": "_13j_4wIotJD"
      },
      "source": [
        "### Лог нормальное"
      ]
    },
    {
      "cell_type": "markdown",
      "metadata": {
        "id": "XgT2xIxyotJF"
      },
      "source": [
        "<p style = 'text-align:justify'><font size = \"3\"  face = 'Times New Roman'>Получим параметры подходящих лог - нормальных распределений и проверим гипотезу согласия наблюдаемых выборок полученным лог-нормальным:</font></p>"
      ]
    },
    {
      "cell_type": "code",
      "execution_count": null,
      "metadata": {
        "outputId": "bc0d77c9-daaf-4d80-863d-4f20a7653193",
        "colab": {
          "base_uri": "https://localhost:8080/"
        },
        "id": "jSvWVLeXotJG"
      },
      "outputs": [
        {
          "output_type": "stream",
          "name": "stdout",
          "text": [
            "Для задания 0 H0 не отвергнута (p_value = 0.355)\n",
            "C параметрами a = 0.32; loc = 107.53; scale = 49.99\n"
          ]
        }
      ],
      "source": [
        "alpha = 0.05 # уровень значимости\n",
        "to_plot = []\n",
        "\n",
        "\n",
        "intervals = [df[task_number].min()]\n",
        "for q in np.arange(0.1, 1, 0.1):\n",
        "    intervals.append(round(np.quantile(df[task_number], q), 0))\n",
        "intervals.append(df[task_number].max())\n",
        "\n",
        "# составляем вектор наблюдаемых частот\n",
        "observations = []\n",
        "for i in range(len(intervals) - 1):\n",
        "    observations.append(len(df[task_number][(df[task_number] >= intervals[i]) & (df[task_number] <= intervals[i + 1])]))\n",
        "\n",
        "# Определяем оценки параметров Гамма-распределения методом ММП\n",
        "a, loc2, scale2 = stats.lognorm.fit(df[task_number])\n",
        "\n",
        "# Составляем теоретических ветор частот\n",
        "n = np.sum(observations)\n",
        "theory = []\n",
        "for i in range(len(intervals) - 2):\n",
        "    p = stats.lognorm.cdf(x=intervals[i + 1], s=a, loc=loc2, scale=scale2) - stats.lognorm.cdf(x=intervals[i], s=a, loc=loc2, scale=scale2)\n",
        "    theory.append(int(round(p*n, 0)))\n",
        "p = 1 - stats.lognorm.cdf(x=intervals[-2], s=a, loc=loc2, scale=scale2)\n",
        "theory.append(n - np.sum(theory))\n",
        "\n",
        "# Проверяем гипотезу\n",
        "stat, p_value = stats.chisquare(\n",
        "    f_obs=observations, \n",
        "    f_exp=theory,\n",
        "    ddof=2\n",
        ")\n",
        "df_results=df_results.append({'Distribution':'Лог нормальное', 'difference_p_value':p_value}, ignore_index = True)\n",
        "\n",
        "if p_value > alpha:\n",
        "    print(f'Для задания {task_number} H0 не отвергнута (p_value = {p_value:.3f})')\n",
        "    print(f'C параметрами a = {round(a,2)}; loc = {round(loc1,2)}; scale = {round(scale1,2)}')\n",
        "    to_plot.append(task_number)\n",
        "else:\n",
        "    print(f'Для задания {task_number} H0 отвергнута (p_value = {p_value:.3f})')\n"
      ]
    },
    {
      "cell_type": "markdown",
      "metadata": {
        "id": "0RjRkN7gotJI"
      },
      "source": [
        "<p style = 'text-align:justify'><font size = \"3\"  face = 'Times New Roman'>Видим, что для задания 0 мы можем сделать вывод о том, что распределение времени выполнения задания соответствует закону Гамма-распределению с подобранными параметрами.  <br><br>\n",
        "Отобразим полученное распределение:\n",
        "</font>\n",
        "</p>"
      ]
    },
    {
      "cell_type": "code",
      "execution_count": null,
      "metadata": {
        "outputId": "4bd11863-9c56-44bb-b4d7-4f7e12fd52d6",
        "colab": {
          "base_uri": "https://localhost:8080/",
          "height": 295
        },
        "id": "ayDnEzBEotJJ"
      },
      "outputs": [
        {
          "output_type": "display_data",
          "data": {
            "text/plain": [
              "<Figure size 432x288 with 1 Axes>"
            ],
            "image/png": "[encoded data removed]"
          },
          "metadata": {
            "needs_background": "light"
          }
        }
      ],
      "source": [
        "\n",
        "intervals = [df[task_number].min()]\n",
        "for q in np.arange(0.1, 1, 0.1):\n",
        "    intervals.append(round(np.quantile(df[task_number], q), 0))\n",
        "intervals.append(df[task_number].max())\n",
        "observations = []\n",
        "for i in range(len(intervals) - 1):\n",
        "    observations.append(len(df[task_number][(df[task_number] >= intervals[i]) & (df[task_number] <= intervals[i + 1])]))\n",
        "\n",
        "\n",
        "# Составляем теоретических ветор частот\n",
        "n = np.sum(observations)\n",
        "theory = []\n",
        "for i in range(len(intervals) - 2):\n",
        "    p = stats.lognorm.cdf(x=intervals[i + 1], s=a, loc=loc2, scale=scale2) - stats.lognorm.cdf(x=intervals[i], s=a, loc=loc2, scale=scale2)\n",
        "    theory.append(int(round(p*n, 0)))\n",
        "p = 1 - stats.lognorm.cdf(x=intervals[-2], s=a, loc=loc2, scale=scale2)\n",
        "theory.append(n - np.sum(theory))\n",
        "\n",
        "\n",
        "fig, ax = plt.subplots()\n",
        "ax.set_title(f'Задание {task_number}')\n",
        "sns.histplot(data=df[task_number], color='b', element='poly', fill=False, stat='density', label=f'histplot task {task_number}', ax=ax)\n",
        "\n",
        "lnorm = stats.lognorm(s=a, loc=loc2, scale=scale2)\n",
        "x = np.linspace(min(intervals), max(intervals), 1000)\n",
        "sns.lineplot(x=x, y=lnorm.pdf(x), color='r', label=f'LogNorm pdf(task {task_number})', ax=ax)\n",
        "ax.set_xlabel('time');\n",
        "plt.savefig('/lognorm_est_plot.png')"
      ]
    },
    {
      "cell_type": "markdown",
      "metadata": {
        "id": "2EcjHonPotJK"
      },
      "source": [
        "<p style = 'text-align:justify'><font size = \"3\"  face = 'Times New Roman'>Отобразим полученное распределение:<br>Как видно, подобранное Гамма распределение достаточно хорошо описыват распределение времени выполнения задания 0</font>\n",
        "<div>\n",
        "<img src='lognorm_est_plot.png' style = \"width:40%; height:40%; padding:0; border:0\" hspace = \"0\" vspace=\"0\"></div></p>"
      ]
    },
    {
      "cell_type": "markdown",
      "source": [
        "### Сравнение приближений"
      ],
      "metadata": {
        "id": "qPLCcY7XtvXd"
      }
    },
    {
      "cell_type": "markdown",
      "source": [
        "<p style = 'text-align:justify'><font size = \"3\"  face = 'Times New Roman'>Если нас интересует, какой закон распределения лучше всего описывает распределение времени выполнения задания, то нужно выбрать распределение с наибольшим p_value, которое характеризует статистическую занчимость отличия одной выборки от другой. <br>То есть если  p_value <= α, то выборки не однородны, иначе однородны, что нам и нужно.</font></p>"
      ],
      "metadata": {
        "id": "pSSebx5bty82"
      }
    },
    {
      "cell_type": "code",
      "execution_count": null,
      "metadata": {
        "id": "oatwZVAWe1Hl",
        "colab": {
          "base_uri": "https://localhost:8080/",
          "height": 143
        },
        "outputId": "a66970e6-4274-46d7-b7d6-a9943282f8a2"
      },
      "outputs": [
        {
          "output_type": "display_data",
          "data": {
            "text/plain": [
              "          Distribution  difference_p_value\n",
              "0   Хи-квдарат Пирсона            0.388284\n",
              "1  Гамма распределение            0.365969\n",
              "2       Лог нормальное            0.355031"
            ],
            "text/html": [
              "\n",
              "  <div id=\"df-4e58e9eb-0716-4b30-9f91-58cd126d0d59\">\n",
              "    <div class=\"colab-df-container\">\n",
              "      <div>\n",
              "<style scoped>\n",
              "    .dataframe tbody tr th:only-of-type {\n",
              "        vertical-align: middle;\n",
              "    }\n",
              "\n",
              "    .dataframe tbody tr th {\n",
              "        vertical-align: top;\n",
              "    }\n",
              "\n",
              "    .dataframe thead th {\n",
              "        text-align: right;\n",
              "    }\n",
              "</style>\n",
              "<table border=\"1\" class=\"dataframe\">\n",
              "  <thead>\n",
              "    <tr style=\"text-align: right;\">\n",
              "      <th></th>\n",
              "      <th>Distribution</th>\n",
              "      <th>difference_p_value</th>\n",
              "    </tr>\n",
              "  </thead>\n",
              "  <tbody>\n",
              "    <tr>\n",
              "      <th>0</th>\n",
              "      <td>Хи-квдарат Пирсона</td>\n",
              "      <td>0.388284</td>\n",
              "    </tr>\n",
              "    <tr>\n",
              "      <th>1</th>\n",
              "      <td>Гамма распределение</td>\n",
              "      <td>0.365969</td>\n",
              "    </tr>\n",
              "    <tr>\n",
              "      <th>2</th>\n",
              "      <td>Лог нормальное</td>\n",
              "      <td>0.355031</td>\n",
              "    </tr>\n",
              "  </tbody>\n",
              "</table>\n",
              "</div>\n",
              "      <button class=\"colab-df-convert\" onclick=\"convertToInteractive('df-4e58e9eb-0716-4b30-9f91-58cd126d0d59')\"\n",
              "              title=\"Convert this dataframe to an interactive table.\"\n",
              "              style=\"display:none;\">\n",
              "        \n",
              "  <svg xmlns=\"http://www.w3.org/2000/svg\" height=\"24px\"viewBox=\"0 0 24 24\"\n",
              "       width=\"24px\">\n",
              "    <path d=\"M0 0h24v24H0V0z\" fill=\"none\"/>\n",
              "    <path d=\"M18.56 5.44l.94 2.06.94-2.06 2.06-.94-2.06-.94-.94-2.06-.94 2.06-2.06.94zm-11 1L8.5 8.5l.94-2.06 2.06-.94-2.06-.94L8.5 2.5l-.94 2.06-2.06.94zm10 10l.94 2.06.94-2.06 2.06-.94-2.06-.94-.94-2.06-.94 2.06-2.06.94z\"/><path d=\"M17.41 7.96l-1.37-1.37c-.4-.4-.92-.59-1.43-.59-.52 0-1.04.2-1.43.59L10.3 9.45l-7.72 7.72c-.78.78-.78 2.05 0 2.83L4 21.41c.39.39.9.59 1.41.59.51 0 1.02-.2 1.41-.59l7.78-7.78 2.81-2.81c.8-.78.8-2.07 0-2.86zM5.41 20L4 18.59l7.72-7.72 1.47 1.35L5.41 20z\"/>\n",
              "  </svg>\n",
              "      </button>\n",
              "      \n",
              "  <style>\n",
              "    .colab-df-container {\n",
              "      display:flex;\n",
              "      flex-wrap:wrap;\n",
              "      gap: 12px;\n",
              "    }\n",
              "\n",
              "    .colab-df-convert {\n",
              "      background-color: #E8F0FE;\n",
              "      border: none;\n",
              "      border-radius: 50%;\n",
              "      cursor: pointer;\n",
              "      display: none;\n",
              "      fill: #1967D2;\n",
              "      height: 32px;\n",
              "      padding: 0 0 0 0;\n",
              "      width: 32px;\n",
              "    }\n",
              "\n",
              "    .colab-df-convert:hover {\n",
              "      background-color: #E2EBFA;\n",
              "      box-shadow: 0px 1px 2px rgba(60, 64, 67, 0.3), 0px 1px 3px 1px rgba(60, 64, 67, 0.15);\n",
              "      fill: #174EA6;\n",
              "    }\n",
              "\n",
              "    [theme=dark] .colab-df-convert {\n",
              "      background-color: #3B4455;\n",
              "      fill: #D2E3FC;\n",
              "    }\n",
              "\n",
              "    [theme=dark] .colab-df-convert:hover {\n",
              "      background-color: #434B5C;\n",
              "      box-shadow: 0px 1px 3px 1px rgba(0, 0, 0, 0.15);\n",
              "      filter: drop-shadow(0px 1px 2px rgba(0, 0, 0, 0.3));\n",
              "      fill: #FFFFFF;\n",
              "    }\n",
              "  </style>\n",
              "\n",
              "      <script>\n",
              "        const buttonEl =\n",
              "          document.querySelector('#df-4e58e9eb-0716-4b30-9f91-58cd126d0d59 button.colab-df-convert');\n",
              "        buttonEl.style.display =\n",
              "          google.colab.kernel.accessAllowed ? 'block' : 'none';\n",
              "\n",
              "        async function convertToInteractive(key) {\n",
              "          const element = document.querySelector('#df-4e58e9eb-0716-4b30-9f91-58cd126d0d59');\n",
              "          const dataTable =\n",
              "            await google.colab.kernel.invokeFunction('convertToInteractive',\n",
              "                                                     [key], {});\n",
              "          if (!dataTable) return;\n",
              "\n",
              "          const docLinkHtml = 'Like what you see? Visit the ' +\n",
              "            '<a target=\"_blank\" href=https://colab.research.google.com/notebooks/data_table.ipynb>data table notebook</a>'\n",
              "            + ' to learn more about interactive tables.';\n",
              "          element.innerHTML = '';\n",
              "          dataTable['output_type'] = 'display_data';\n",
              "          await google.colab.output.renderOutput(dataTable, element);\n",
              "          const docLink = document.createElement('div');\n",
              "          docLink.innerHTML = docLinkHtml;\n",
              "          element.appendChild(docLink);\n",
              "        }\n",
              "      </script>\n",
              "    </div>\n",
              "  </div>\n",
              "  "
            ]
          },
          "metadata": {}
        }
      ],
      "source": [
        "display(df_results.sort_values('difference_p_value', ascending = False))"
      ]
    },
    {
      "cell_type": "markdown",
      "source": [
        "<p style = 'text-align:justify'><font size = \"3\"  face = 'Times New Roman'>Как видно в таблице, Хи - квадрат Пирсона лучше всего описывает распределение времени выполнения задания 0</font></p>"
      ],
      "metadata": {
        "id": "1ATZGVCExvmE"
      }
    },
    {
      "cell_type": "code",
      "source": [
        ""
      ],
      "metadata": {
        "id": "Je5DZnBgudAW"
      },
      "execution_count": null,
      "outputs": []
    }
  ],
  "metadata": {
    "interpreter": {
      "hash": "cfdceaa13bdfea2d06b7d226db1a0a8a3a2794aee9a3cd7db768ec20c9153fc0"
    },
    "kernelspec": {
      "display_name": "Python 3.10.4 ('Parallel')",
      "language": "python",
      "name": "python3"
    },
    "language_info": {
      "codemirror_mode": {
        "name": "ipython",
        "version": 3
      },
      "file_extension": ".py",
      "mimetype": "text/x-python",
      "name": "python",
      "nbconvert_exporter": "python",
      "pygments_lexer": "ipython3",
      "version": "3.10.4"
    },
    "colab": {
      "name": "Копия блокнота \"Hypothesis_Feyzullin.ipynb\"",
      "provenance": [],
      "collapsed_sections": []
    }
  },
  "nbformat": 4,
  "nbformat_minor": 0
}